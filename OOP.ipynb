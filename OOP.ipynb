{
  "nbformat": 4,
  "nbformat_minor": 0,
  "metadata": {
    "colab": {
      "name": "OOP.ipynb",
      "provenance": [],
      "collapsed_sections": []
    },
    "kernelspec": {
      "name": "python3",
      "display_name": "Python 3"
    },
    "language_info": {
      "name": "python"
    }
  },
  "cells": [
    {
      "cell_type": "markdown",
      "metadata": {
        "id": "JUukK_y6aOZt"
      },
      "source": [
        "# 4 Principles of OOP\n",
        "#### 1. Inheritance\n",
        "#### 2. Pplymorphism\n",
        "#### 3. Encapsulation\n",
        "#### 4. Abstraction"
      ]
    },
    {
      "cell_type": "code",
      "metadata": {
        "id": "b4sjSz6FaRsT"
      },
      "source": [
        ""
      ],
      "execution_count": null,
      "outputs": []
    },
    {
      "cell_type": "code",
      "metadata": {
        "id": "1ldcgVvKaoTE"
      },
      "source": [
        ""
      ],
      "execution_count": null,
      "outputs": []
    },
    {
      "cell_type": "code",
      "metadata": {
        "id": "yTvO16JuaomK"
      },
      "source": [
        "# position, name, age, level, salary\n",
        "se_1 = ['Soft Enginner', 'Max', 20, 'Junior', 5_000]"
      ],
      "execution_count": 23,
      "outputs": []
    },
    {
      "cell_type": "code",
      "metadata": {
        "id": "XS7b3wOxaopR"
      },
      "source": [
        "se_2 = ['Soft Enginner', 'Lisa', 26, 'Senior', 8_000]"
      ],
      "execution_count": 25,
      "outputs": []
    },
    {
      "cell_type": "code",
      "metadata": {
        "id": "tr7bW_Cgaor0"
      },
      "source": [
        "se_3 = ['Web Developer', 'Eddie', 35, 'Senior', 18_000]"
      ],
      "execution_count": 26,
      "outputs": []
    },
    {
      "cell_type": "code",
      "metadata": {
        "id": "8AhPNEIybJ5K"
      },
      "source": [
        "class ItStack:\n",
        "  pass"
      ],
      "execution_count": 27,
      "outputs": []
    },
    {
      "cell_type": "code",
      "metadata": {
        "colab": {
          "base_uri": "https://localhost:8080/"
        },
        "id": "XJjYGa-zaovG",
        "outputId": "85157cb8-a05f-4bb2-e0d5-585010ab6997"
      },
      "source": [
        "se1 = ItStack()\n",
        "se1"
      ],
      "execution_count": 28,
      "outputs": [
        {
          "output_type": "execute_result",
          "data": {
            "text/plain": [
              "<__main__.ItStack at 0x7f183d1962d0>"
            ]
          },
          "metadata": {
            "tags": []
          },
          "execution_count": 28
        }
      ]
    },
    {
      "cell_type": "code",
      "metadata": {
        "id": "O0dppSeabjKc"
      },
      "source": [
        "class ItStack:\n",
        "\n",
        "  # class attribute\n",
        "  alias = 'Joker the Magician'\n",
        "  \n",
        "  # instance attribute\n",
        "  def __init__(self, name, age, level, salary):\n",
        "    self.name = name\n",
        "    self.age = age\n",
        "    self.level = level\n",
        "    self.salary = salary\n"
      ],
      "execution_count": 29,
      "outputs": []
    },
    {
      "cell_type": "code",
      "metadata": {
        "id": "vlxivr3YeNGY"
      },
      "source": [
        "se1 = ItStack('Mad Max', 34, 'Senior', 10800)"
      ],
      "execution_count": 124,
      "outputs": []
    },
    {
      "cell_type": "code",
      "metadata": {
        "colab": {
          "base_uri": "https://localhost:8080/"
        },
        "id": "--HZU_3eea5R",
        "outputId": "5ca732cb-6f13-4be0-8009-a79a4466eadf"
      },
      "source": [
        "print(se1.name, se1.age)"
      ],
      "execution_count": 97,
      "outputs": [
        {
          "output_type": "stream",
          "text": [
            "Mad Max 34\n"
          ],
          "name": "stdout"
        }
      ]
    },
    {
      "cell_type": "code",
      "metadata": {
        "colab": {
          "base_uri": "https://localhost:8080/",
          "height": 163
        },
        "id": "VAPcNiJSeeIm",
        "outputId": "01b74fe5-4f1d-40e9-9662-9df051f27d79"
      },
      "source": [
        "ItStack.name"
      ],
      "execution_count": 32,
      "outputs": [
        {
          "output_type": "error",
          "ename": "AttributeError",
          "evalue": "ignored",
          "traceback": [
            "\u001b[0;31m---------------------------------------------------------------------------\u001b[0m",
            "\u001b[0;31mAttributeError\u001b[0m                            Traceback (most recent call last)",
            "\u001b[0;32m<ipython-input-32-fe69bd1b6162>\u001b[0m in \u001b[0;36m<module>\u001b[0;34m()\u001b[0m\n\u001b[0;32m----> 1\u001b[0;31m \u001b[0mItStack\u001b[0m\u001b[0;34m.\u001b[0m\u001b[0mname\u001b[0m\u001b[0;34m\u001b[0m\u001b[0;34m\u001b[0m\u001b[0m\n\u001b[0m",
            "\u001b[0;31mAttributeError\u001b[0m: type object 'ItStack' has no attribute 'name'"
          ]
        }
      ]
    },
    {
      "cell_type": "code",
      "metadata": {
        "colab": {
          "base_uri": "https://localhost:8080/",
          "height": 35
        },
        "id": "E3Ulhiqfe9v_",
        "outputId": "3d3072d6-decb-4dd5-f80a-5cba0c038e6b"
      },
      "source": [
        "ItStack.alias"
      ],
      "execution_count": 33,
      "outputs": [
        {
          "output_type": "execute_result",
          "data": {
            "application/vnd.google.colaboratory.intrinsic+json": {
              "type": "string"
            },
            "text/plain": [
              "'Joker the Magician'"
            ]
          },
          "metadata": {
            "tags": []
          },
          "execution_count": 33
        }
      ]
    },
    {
      "cell_type": "code",
      "metadata": {
        "colab": {
          "base_uri": "https://localhost:8080/"
        },
        "id": "dYBHh-Y1e9yq",
        "outputId": "2397fa79-043e-4556-d134-965f964e4d31"
      },
      "source": [
        "print(se1.alias)"
      ],
      "execution_count": 34,
      "outputs": [
        {
          "output_type": "stream",
          "text": [
            "Joker the Magician\n"
          ],
          "name": "stdout"
        }
      ]
    },
    {
      "cell_type": "code",
      "metadata": {
        "id": "mTMP2nQhe92D"
      },
      "source": [
        "se2 = ItStack('Luis', 22, 'Junior', 3800)"
      ],
      "execution_count": 125,
      "outputs": []
    },
    {
      "cell_type": "code",
      "metadata": {
        "id": "ZYTEkzbDiMf8"
      },
      "source": [
        ""
      ],
      "execution_count": null,
      "outputs": []
    },
    {
      "cell_type": "code",
      "metadata": {
        "id": "NKQBVBdeiMia"
      },
      "source": [
        ""
      ],
      "execution_count": null,
      "outputs": []
    },
    {
      "cell_type": "code",
      "metadata": {
        "id": "FaCKu-KmiMlg"
      },
      "source": [
        ""
      ],
      "execution_count": 10,
      "outputs": []
    },
    {
      "cell_type": "code",
      "metadata": {
        "id": "yfyAKQfKdP6C"
      },
      "source": [
        "def code(se):\n",
        "  print(f\"{se[1]} is writing code...\")"
      ],
      "execution_count": 59,
      "outputs": []
    },
    {
      "cell_type": "code",
      "metadata": {
        "colab": {
          "base_uri": "https://localhost:8080/"
        },
        "id": "eqzu9RbBedcf",
        "outputId": "e53f3f8f-7b24-4e37-c1f9-c76a0ccdf230"
      },
      "source": [
        "code(se_1)"
      ],
      "execution_count": 60,
      "outputs": [
        {
          "output_type": "stream",
          "text": [
            "Max is writing code...\n"
          ],
          "name": "stdout"
        }
      ]
    },
    {
      "cell_type": "code",
      "metadata": {
        "colab": {
          "base_uri": "https://localhost:8080/"
        },
        "id": "fjb-pr9sedfF",
        "outputId": "29d7f65e-032c-4251-c30d-072ae2b8bad4"
      },
      "source": [
        "code(se_2)"
      ],
      "execution_count": 61,
      "outputs": [
        {
          "output_type": "stream",
          "text": [
            "Lisa is writing code...\n"
          ],
          "name": "stdout"
        }
      ]
    },
    {
      "cell_type": "code",
      "metadata": {
        "id": "VEaEoh1agz4t"
      },
      "source": [
        "d1 = ['Dancer', 'Fiona', 24, 'Medium', 3999]"
      ],
      "execution_count": 58,
      "outputs": []
    },
    {
      "cell_type": "code",
      "metadata": {
        "colab": {
          "base_uri": "https://localhost:8080/"
        },
        "id": "soT1xvKXg-Tm",
        "outputId": "9b8a2994-2818-47fb-bb3f-0161ce4cf6cf"
      },
      "source": [
        "code(d1)        # but how can be a dancer coding? Security issue happens"
      ],
      "execution_count": 63,
      "outputs": [
        {
          "output_type": "stream",
          "text": [
            "Fiona is writing code...\n"
          ],
          "name": "stdout"
        }
      ]
    },
    {
      "cell_type": "markdown",
      "metadata": {
        "id": "basOnvlfjYa2"
      },
      "source": [
        "We better tie the code( ) function into our ItStack class."
      ]
    },
    {
      "cell_type": "code",
      "metadata": {
        "id": "peRjE1Plg-WE"
      },
      "source": [
        ""
      ],
      "execution_count": null,
      "outputs": []
    },
    {
      "cell_type": "code",
      "metadata": {
        "id": "mL_jhLCsg-Yg"
      },
      "source": [
        ""
      ],
      "execution_count": null,
      "outputs": []
    },
    {
      "cell_type": "code",
      "metadata": {
        "id": "eEzLEEJIdP8W"
      },
      "source": [
        "class ItStack:\n",
        "\n",
        "  # class attribute\n",
        "  alias = 'Joker the Magician'\n",
        "  \n",
        "  # instance attribute\n",
        "  def __init__(self, name, age, level, salary):\n",
        "    self.name = name\n",
        "    self.age = age\n",
        "    self.level = level\n",
        "    self.salary = salary\n",
        "\n",
        "  # instance method\n",
        "  def code(self):\n",
        "    print(f\"{self.name} is writing code...\")\n",
        "\n",
        "  def code_in_language(self, language):\n",
        "    print(f\"{self.name} is writing code in {language}...\")"
      ],
      "execution_count": 99,
      "outputs": []
    },
    {
      "cell_type": "code",
      "metadata": {
        "colab": {
          "base_uri": "https://localhost:8080/"
        },
        "id": "VaAamCAodP-w",
        "outputId": "7ba89d2f-02d0-447d-861f-10310811f4b3"
      },
      "source": [
        "se1.code()"
      ],
      "execution_count": 100,
      "outputs": [
        {
          "output_type": "stream",
          "text": [
            "Mad Max is writing code...\n"
          ],
          "name": "stdout"
        }
      ]
    },
    {
      "cell_type": "code",
      "metadata": {
        "colab": {
          "base_uri": "https://localhost:8080/"
        },
        "id": "u1ih566NdQBG",
        "outputId": "c26bf59f-f996-4722-87a7-a054cd45240f"
      },
      "source": [
        "se2.code()"
      ],
      "execution_count": 101,
      "outputs": [
        {
          "output_type": "stream",
          "text": [
            "Luis is writing code...\n"
          ],
          "name": "stdout"
        }
      ]
    },
    {
      "cell_type": "code",
      "metadata": {
        "colab": {
          "base_uri": "https://localhost:8080/"
        },
        "id": "4k1uEf_wcmki",
        "outputId": "f7653532-c420-421e-def9-53b7bdb52a8f"
      },
      "source": [
        "se1.code_in_language('C++')"
      ],
      "execution_count": 105,
      "outputs": [
        {
          "output_type": "stream",
          "text": [
            "Mad Max is writing code in C++...\n"
          ],
          "name": "stdout"
        }
      ]
    },
    {
      "cell_type": "code",
      "metadata": {
        "colab": {
          "base_uri": "https://localhost:8080/"
        },
        "id": "4YODMAlflEk9",
        "outputId": "a67234fa-3495-4f09-cc93-6ca76e1180f4"
      },
      "source": [
        "se2.code_in_language('Java')"
      ],
      "execution_count": 103,
      "outputs": [
        {
          "output_type": "stream",
          "text": [
            "Luis is writing code in Java...\n"
          ],
          "name": "stdout"
        }
      ]
    },
    {
      "cell_type": "code",
      "metadata": {
        "id": "IxqHhlmImY8y"
      },
      "source": [
        "class ItStack_0:\n",
        "\n",
        "  # class attribute\n",
        "  alias = 'Joker the Magician'\n",
        "  \n",
        "  # instance attribute\n",
        "  def __init__(self, name, age, level, salary):\n",
        "    self.name = name\n",
        "    self.age = age\n",
        "    self.level = level\n",
        "    self.salary = salary\n",
        "\n",
        "  # instance method\n",
        "  def code(self):\n",
        "    print(f\"{self.name} is writing code...\")\n",
        "\n",
        "  def code_in_language(self, language):\n",
        "    print(f\"{self.name} is writing code in {language}...\")\n",
        "\n",
        "  def info(self):\n",
        "    info = f\"name = {self.name}, age = {self.age}, level = {self.level}\"\n",
        "    return info"
      ],
      "execution_count": 131,
      "outputs": []
    },
    {
      "cell_type": "code",
      "metadata": {
        "colab": {
          "base_uri": "https://localhost:8080/",
          "height": 35
        },
        "id": "tg8dJy3mn_6m",
        "outputId": "7776c01b-82a5-4f33-dabb-31d9c3e8091b"
      },
      "source": [
        "se1.info()"
      ],
      "execution_count": 116,
      "outputs": [
        {
          "output_type": "execute_result",
          "data": {
            "application/vnd.google.colaboratory.intrinsic+json": {
              "type": "string"
            },
            "text/plain": [
              "'name = Mad Max, age = 34, level = Senior'"
            ]
          },
          "metadata": {
            "tags": []
          },
          "execution_count": 116
        }
      ]
    },
    {
      "cell_type": "code",
      "metadata": {
        "colab": {
          "base_uri": "https://localhost:8080/",
          "height": 35
        },
        "id": "G1uw8YDbn__Y",
        "outputId": "f69b3ddc-2d01-42eb-8f50-55a110e16e0f"
      },
      "source": [
        "se2.info()"
      ],
      "execution_count": 117,
      "outputs": [
        {
          "output_type": "execute_result",
          "data": {
            "application/vnd.google.colaboratory.intrinsic+json": {
              "type": "string"
            },
            "text/plain": [
              "'name = Luis, age = 22, level = Junior'"
            ]
          },
          "metadata": {
            "tags": []
          },
          "execution_count": 117
        }
      ]
    },
    {
      "cell_type": "code",
      "metadata": {
        "id": "6yLTTHrXoAB8"
      },
      "source": [
        ""
      ],
      "execution_count": null,
      "outputs": []
    },
    {
      "cell_type": "code",
      "metadata": {
        "id": "iUX47e1jrUPW"
      },
      "source": [
        ""
      ],
      "execution_count": null,
      "outputs": []
    },
    {
      "cell_type": "code",
      "metadata": {
        "id": "lznWD1J2rURw"
      },
      "source": [
        "class ItStack:\n",
        "\n",
        "  # class attribute\n",
        "  alias = 'Joker the Magician'\n",
        "  \n",
        "  # instance attribute\n",
        "  def __init__(self, name, age, level, salary):\n",
        "    self.name = name\n",
        "    self.age = age\n",
        "    self.level = level\n",
        "    self.salary = salary\n",
        "\n",
        "  # instance method\n",
        "  def code(self):\n",
        "    print(f\"{self.name} is writing code...\")\n",
        "\n",
        "  def code_in_language(self, language):\n",
        "    print(f\"{self.name} is writing code in {language}...\")\n",
        "\n",
        "  #def info(self):\n",
        "    #info = f\"name = {self.name}, age = {self.age}, level = {self.level}\"\n",
        "    #return info\n",
        "  \n",
        "  # dunder\n",
        "  def __str__(self):\n",
        "    info = f\"name = {self.name}, age = {self.age}, level = {self.level}\"\n",
        "    return info"
      ],
      "execution_count": 142,
      "outputs": []
    },
    {
      "cell_type": "code",
      "metadata": {
        "id": "YtmxiV5-s0fN"
      },
      "source": [
        "se1 = ItStack_0('Mad Max', 34, 'Senior', 10800)\n",
        "se2 = ItStack_0('Luis', 22, 'Junior', 3800)"
      ],
      "execution_count": 134,
      "outputs": []
    },
    {
      "cell_type": "code",
      "metadata": {
        "colab": {
          "base_uri": "https://localhost:8080/"
        },
        "id": "-xnM5vbLrUUE",
        "outputId": "d3fcd93d-1ac4-486f-d311-4d483767ebb5"
      },
      "source": [
        "print(se1)"
      ],
      "execution_count": 135,
      "outputs": [
        {
          "output_type": "stream",
          "text": [
            "<__main__.ItStack_0 object at 0x7f183d199890>\n"
          ],
          "name": "stdout"
        }
      ]
    },
    {
      "cell_type": "code",
      "metadata": {
        "id": "C9lq187utBN8"
      },
      "source": [
        "se1 = ItStack('Mad Max', 34, 'Senior', 10800)\n",
        "se2 = ItStack('Luis', 22, 'Junior', 3800)\n",
        "se3 = ItStack('Luis', 22, 'Junior', 3800)"
      ],
      "execution_count": 140,
      "outputs": []
    },
    {
      "cell_type": "code",
      "metadata": {
        "colab": {
          "base_uri": "https://localhost:8080/"
        },
        "id": "rvnCIc1RrUWd",
        "outputId": "5246f54b-ae95-4467-9ec6-aa1ff6ed6445"
      },
      "source": [
        "print(se1)     # print out all infomation cuz we used __str__(), if not, we only get above result"
      ],
      "execution_count": 139,
      "outputs": [
        {
          "output_type": "stream",
          "text": [
            "name = Mad Max, age = 34, level = Senior\n"
          ],
          "name": "stdout"
        }
      ]
    },
    {
      "cell_type": "code",
      "metadata": {
        "colab": {
          "base_uri": "https://localhost:8080/"
        },
        "id": "_BECR6XlsUnL",
        "outputId": "5f2a88cb-8092-4ca5-f837-9da35688812b"
      },
      "source": [
        "print(se2 == se3)"
      ],
      "execution_count": 141,
      "outputs": [
        {
          "output_type": "stream",
          "text": [
            "False\n"
          ],
          "name": "stdout"
        }
      ]
    },
    {
      "cell_type": "code",
      "metadata": {
        "id": "W_oDC0i2u2KV"
      },
      "source": [
        "class ItStack:\n",
        "\n",
        "  # class attribute\n",
        "  alias = 'Joker the Magician'\n",
        "  \n",
        "  # instance attribute\n",
        "  def __init__(self, name, age, level, salary):\n",
        "    self.name = name\n",
        "    self.age = age\n",
        "    self.level = level\n",
        "    self.salary = salary\n",
        "\n",
        "  # instance method\n",
        "  def code(self):\n",
        "    print(f\"{self.name} is writing code...\")\n",
        "\n",
        "  def code_in_language(self, language):\n",
        "    print(f\"{self.name} is writing code in {language}...\")\n",
        "\n",
        "  #def info(self):\n",
        "    #info = f\"name = {self.name}, age = {self.age}, level = {self.level}\"\n",
        "    #return info\n",
        "  \n",
        "  # 2 special dunder methods\n",
        "  def __str__(self):\n",
        "    info = f\"name = {self.name}, age = {self.age}, level = {self.level}\"\n",
        "    return info\n",
        "\n",
        "  def __eq__(self, other):   # by defult, it compares the memory location\n",
        "    return self.name == other.name and self.age == other.age"
      ],
      "execution_count": 144,
      "outputs": []
    },
    {
      "cell_type": "code",
      "metadata": {
        "id": "vZJ1dHdlu9Bt"
      },
      "source": [
        "se1 = ItStack('Mad Max', 34, 'Senior', 10800)\n",
        "se2 = ItStack('Luis', 22, 'Junior', 3800)\n",
        "se3 = ItStack('Luis', 22, 'Junior', 3800)"
      ],
      "execution_count": 145,
      "outputs": []
    },
    {
      "cell_type": "code",
      "metadata": {
        "colab": {
          "base_uri": "https://localhost:8080/"
        },
        "id": "0sjZuCe-tSZd",
        "outputId": "6b314b86-7a07-4e79-f23d-72bde3638f84"
      },
      "source": [
        "print(se2 == se3)"
      ],
      "execution_count": 146,
      "outputs": [
        {
          "output_type": "stream",
          "text": [
            "True\n"
          ],
          "name": "stdout"
        }
      ]
    },
    {
      "cell_type": "code",
      "metadata": {
        "id": "D7LSJwLKtScE"
      },
      "source": [
        "class ItStack:\n",
        "\n",
        "  # class attribute\n",
        "  alias = 'Joker the Magician'\n",
        "  \n",
        "  # instance attribute\n",
        "  def __init__(self, name, age, level, salary):\n",
        "    self.name = name\n",
        "    self.age = age\n",
        "    self.level = level\n",
        "    self.salary = salary\n",
        "\n",
        "  # instance method\n",
        "  def code(self):\n",
        "    print(f\"{self.name} is writing code...\")\n",
        "\n",
        "  def code_in_language(self, language):\n",
        "    print(f\"{self.name} is writing code in {language}...\")\n",
        "\n",
        "  #def info(self):\n",
        "    #info = f\"name = {self.name}, age = {self.age}, level = {self.level}\"\n",
        "    #return info\n",
        "  \n",
        "  # 2 special dunder methods\n",
        "  def __str__(self):\n",
        "    info = f\"name = {self.name}, age = {self.age}, level = {self.level}\"\n",
        "    return info\n",
        "\n",
        "  def __eq__(self, other):   # by defult, it compares the memory location\n",
        "    return self.name == other.name and self.age == other.age\n",
        "\n",
        "  def entry_salary(age):    # class method, not an instance method\n",
        "    if age < 25:\n",
        "      return 3000\n",
        "    if age < 30:\n",
        "      return 5000\n",
        "    return 9000"
      ],
      "execution_count": 148,
      "outputs": []
    },
    {
      "cell_type": "code",
      "metadata": {
        "id": "50FtIP1Wu-8x"
      },
      "source": [
        "se1 = ItStack('Mad Max', 34, 'Senior', 10800)\n",
        "se2 = ItStack('Luis', 22, 'Junior', 3800)\n",
        "se3 = ItStack('Luis', 22, 'Junior', 3800)"
      ],
      "execution_count": 149,
      "outputs": []
    },
    {
      "cell_type": "code",
      "metadata": {
        "colab": {
          "base_uri": "https://localhost:8080/",
          "height": 163
        },
        "id": "DeWnkqKstSes",
        "outputId": "c32bd8e7-0be6-4f0a-916a-0449082ae923"
      },
      "source": [
        "se1.entry_salary(25)       # se1 is an instance, so it automatically passes self as one arg"
      ],
      "execution_count": 150,
      "outputs": [
        {
          "output_type": "error",
          "ename": "TypeError",
          "evalue": "ignored",
          "traceback": [
            "\u001b[0;31m---------------------------------------------------------------------------\u001b[0m",
            "\u001b[0;31mTypeError\u001b[0m                                 Traceback (most recent call last)",
            "\u001b[0;32m<ipython-input-150-5616463da526>\u001b[0m in \u001b[0;36m<module>\u001b[0;34m()\u001b[0m\n\u001b[0;32m----> 1\u001b[0;31m \u001b[0mse1\u001b[0m\u001b[0;34m.\u001b[0m\u001b[0mentry_salary\u001b[0m\u001b[0;34m(\u001b[0m\u001b[0;36m25\u001b[0m\u001b[0;34m)\u001b[0m\u001b[0;34m\u001b[0m\u001b[0;34m\u001b[0m\u001b[0m\n\u001b[0m",
            "\u001b[0;31mTypeError\u001b[0m: entry_salary() takes 1 positional argument but 2 were given"
          ]
        }
      ]
    },
    {
      "cell_type": "code",
      "metadata": {
        "colab": {
          "base_uri": "https://localhost:8080/"
        },
        "id": "LBHqmdRitSg-",
        "outputId": "0103e395-87a8-4ad7-df13-0e57f5806842"
      },
      "source": [
        "ItStack.entry_salary(25)     # it worked since it's passed on a class, not an instance"
      ],
      "execution_count": 152,
      "outputs": [
        {
          "output_type": "execute_result",
          "data": {
            "text/plain": [
              "5000"
            ]
          },
          "metadata": {
            "tags": []
          },
          "execution_count": 152
        }
      ]
    },
    {
      "cell_type": "code",
      "metadata": {
        "id": "tCKDFetWtSjh"
      },
      "source": [
        "class ItStack:\n",
        "\n",
        "  # class attribute\n",
        "  alias = 'Joker the Magician'\n",
        "  \n",
        "  # instance attribute\n",
        "  def __init__(self, name, age, level, salary):\n",
        "    self.name = name\n",
        "    self.age = age\n",
        "    self.level = level\n",
        "    self.salary = salary\n",
        "\n",
        "  # instance method\n",
        "  def code(self):\n",
        "    print(f\"{self.name} is writing code...\")\n",
        "\n",
        "  def code_in_language(self, language):\n",
        "    print(f\"{self.name} is writing code in {language}...\")\n",
        "\n",
        "  #def info(self):\n",
        "    #info = f\"name = {self.name}, age = {self.age}, level = {self.level}\"\n",
        "    #return info\n",
        "  \n",
        "  # 2 special dunder methods\n",
        "  def __str__(self):\n",
        "    info = f\"name = {self.name}, age = {self.age}, level = {self.level}\"\n",
        "    return info\n",
        "\n",
        "  def __eq__(self, other):   # by defult, it compares the memory location\n",
        "    return self.name == other.name and self.age == other.age\n",
        "\n",
        "  @staticmethod       # tho working, this is not tied to a specific instance\n",
        "  def entry_salary(age):    # class method, not an instance method\n",
        "    if age < 25:\n",
        "      return 3000\n",
        "    if age < 30:\n",
        "      return 5000\n",
        "    return 9000"
      ],
      "execution_count": 153,
      "outputs": []
    },
    {
      "cell_type": "code",
      "metadata": {
        "id": "pXPgLbUhtLX_"
      },
      "source": [
        "se1 = ItStack('Mad Max', 34, 'Senior', 10800)\n",
        "se2 = ItStack('Luis', 22, 'Junior', 3800)\n",
        "se3 = ItStack('Luis', 22, 'Junior', 3800)"
      ],
      "execution_count": 154,
      "outputs": []
    },
    {
      "cell_type": "code",
      "metadata": {
        "colab": {
          "base_uri": "https://localhost:8080/"
        },
        "id": "xotPeQs8tLad",
        "outputId": "61064f2b-d511-480c-ca50-ecd639bfd86b"
      },
      "source": [
        "se1.entry_salary(25)    # using decorator to make it happen"
      ],
      "execution_count": 155,
      "outputs": [
        {
          "output_type": "execute_result",
          "data": {
            "text/plain": [
              "5000"
            ]
          },
          "metadata": {
            "tags": []
          },
          "execution_count": 155
        }
      ]
    },
    {
      "cell_type": "code",
      "metadata": {
        "colab": {
          "base_uri": "https://localhost:8080/"
        },
        "id": "6CkJB5GvtLdA",
        "outputId": "4fc8e6e4-b2fd-45d4-deb7-c895fec203c6"
      },
      "source": [
        "ItStack.entry_salary(27)  # can used both in instance and class, but cannot access to attributes since it's not tied to any specific instance created"
      ],
      "execution_count": 157,
      "outputs": [
        {
          "output_type": "execute_result",
          "data": {
            "text/plain": [
              "5000"
            ]
          },
          "metadata": {
            "tags": []
          },
          "execution_count": 157
        }
      ]
    },
    {
      "cell_type": "code",
      "metadata": {
        "id": "RJWnNI0rtLfq"
      },
      "source": [
        ""
      ],
      "execution_count": null,
      "outputs": []
    },
    {
      "cell_type": "code",
      "metadata": {
        "id": "zED_1zHP4wjs"
      },
      "source": [
        ""
      ],
      "execution_count": null,
      "outputs": []
    },
    {
      "cell_type": "markdown",
      "metadata": {
        "id": "PsLlWouwoxnk"
      },
      "source": [
        "# Inheritance"
      ]
    },
    {
      "cell_type": "markdown",
      "metadata": {
        "id": "gBavM0kApnGc"
      },
      "source": [
        "#### inherits"
      ]
    },
    {
      "cell_type": "code",
      "metadata": {
        "id": "NmMLaQIgpL7m"
      },
      "source": [
        "class Employee:\n",
        "\n",
        "  def __init__(self, name, age):\n",
        "    self.name = name\n",
        "    self.age = age"
      ],
      "execution_count": 19,
      "outputs": []
    },
    {
      "cell_type": "code",
      "metadata": {
        "id": "_gOztZRb4wl9"
      },
      "source": [
        "class ItStack(Employee):    # inherits\n",
        "  pass"
      ],
      "execution_count": 20,
      "outputs": []
    },
    {
      "cell_type": "code",
      "metadata": {
        "id": "fmkEau7N4wqf"
      },
      "source": [
        "se = ItStack('Eddie', 24)"
      ],
      "execution_count": 21,
      "outputs": []
    },
    {
      "cell_type": "code",
      "metadata": {
        "colab": {
          "base_uri": "https://localhost:8080/"
        },
        "id": "E_J4ziMz4wtN",
        "outputId": "7a71c5d8-6239-485b-e79e-580707a9781f"
      },
      "source": [
        "print(se.name, se.age)"
      ],
      "execution_count": 24,
      "outputs": [
        {
          "output_type": "stream",
          "text": [
            "Eddie 24\n"
          ],
          "name": "stdout"
        }
      ]
    },
    {
      "cell_type": "code",
      "metadata": {
        "id": "P39gSmTKrv0y"
      },
      "source": [
        "class Designer(Employee):    # inherits\n",
        "  pass"
      ],
      "execution_count": 25,
      "outputs": []
    },
    {
      "cell_type": "code",
      "metadata": {
        "id": "sZPfuBfIsCn4"
      },
      "source": [
        "d1 = Designer('Phil', 29)"
      ],
      "execution_count": 26,
      "outputs": []
    },
    {
      "cell_type": "code",
      "metadata": {
        "colab": {
          "base_uri": "https://localhost:8080/"
        },
        "id": "TOotMtMIsGld",
        "outputId": "5af51e85-2eae-482e-fb9b-113e415896fe"
      },
      "source": [
        "print(d1.name, d1.age)"
      ],
      "execution_count": 27,
      "outputs": [
        {
          "output_type": "stream",
          "text": [
            "Phil 29\n"
          ],
          "name": "stdout"
        }
      ]
    },
    {
      "cell_type": "code",
      "metadata": {
        "id": "l4mValDesI4N"
      },
      "source": [
        "class Employee:\n",
        "\n",
        "  def __init__(self, name, age):\n",
        "    self.name = name\n",
        "    self.age = age\n",
        "\n",
        "  def work(self):\n",
        "    print(f\"{self.name} is working...\")"
      ],
      "execution_count": 34,
      "outputs": []
    },
    {
      "cell_type": "code",
      "metadata": {
        "id": "tWHdE_52s4IP"
      },
      "source": [
        "class ItStack(Employee):    # inherits\n",
        "  pass"
      ],
      "execution_count": 35,
      "outputs": []
    },
    {
      "cell_type": "code",
      "metadata": {
        "id": "Jgk_9-7zsKZ1"
      },
      "source": [
        "se = ItStack('Eddie', 24)"
      ],
      "execution_count": 36,
      "outputs": []
    },
    {
      "cell_type": "code",
      "metadata": {
        "colab": {
          "base_uri": "https://localhost:8080/"
        },
        "id": "2cHStEmgsKfp",
        "outputId": "d49082a1-991d-4c98-e074-995e729a05ad"
      },
      "source": [
        "se.work()"
      ],
      "execution_count": 37,
      "outputs": [
        {
          "output_type": "stream",
          "text": [
            "Eddie is working...\n"
          ],
          "name": "stdout"
        }
      ]
    },
    {
      "cell_type": "code",
      "metadata": {
        "id": "tYB4gURdsKkT"
      },
      "source": [
        "class Designer(Employee):    # inherits\n",
        "  pass"
      ],
      "execution_count": 38,
      "outputs": []
    },
    {
      "cell_type": "code",
      "metadata": {
        "id": "Iy_7_wsmsKne"
      },
      "source": [
        "d1 = Designer('Phil', 29)"
      ],
      "execution_count": 39,
      "outputs": []
    },
    {
      "cell_type": "code",
      "metadata": {
        "colab": {
          "base_uri": "https://localhost:8080/"
        },
        "id": "Jt-DAO2UtC9S",
        "outputId": "6cec0aea-44cc-48e9-c31c-d6424e889386"
      },
      "source": [
        "d1.work()"
      ],
      "execution_count": 40,
      "outputs": [
        {
          "output_type": "stream",
          "text": [
            "Phil is working...\n"
          ],
          "name": "stdout"
        }
      ]
    },
    {
      "cell_type": "markdown",
      "metadata": {
        "id": "Rn7SbEuCtQYX"
      },
      "source": [
        "#### overide"
      ]
    },
    {
      "cell_type": "code",
      "metadata": {
        "id": "dSzoogd2twMS"
      },
      "source": [
        "class Employee:\n",
        "\n",
        "  def __init__(self, name, age, salary):\n",
        "    self.name = name\n",
        "    self.age = age\n",
        "    self.salary = salary\n",
        "\n",
        "  def work(self):\n",
        "    print(f\"{self.name} is working...\")"
      ],
      "execution_count": 41,
      "outputs": []
    },
    {
      "cell_type": "code",
      "metadata": {
        "id": "iAYk2cBttEGF"
      },
      "source": [
        "class ItStack(Employee):    # inherits\n",
        "  def __init__(self, name, age, salary, level):\n",
        "    super().__init__(name, age, salary)    # refers parent class\n",
        "    self.level = level"
      ],
      "execution_count": 42,
      "outputs": []
    },
    {
      "cell_type": "code",
      "metadata": {
        "id": "i7tCeQUCuFSq"
      },
      "source": [
        "se = ItStack('Eddie', 24, 6000, 'junior')"
      ],
      "execution_count": 43,
      "outputs": []
    },
    {
      "cell_type": "code",
      "metadata": {
        "colab": {
          "base_uri": "https://localhost:8080/"
        },
        "id": "44Kiguc4ugEt",
        "outputId": "0880b5c0-92a4-48ca-8cce-dfcf11669864"
      },
      "source": [
        "se.salary, se.level"
      ],
      "execution_count": 49,
      "outputs": [
        {
          "output_type": "execute_result",
          "data": {
            "text/plain": [
              "(6000, 'junior')"
            ]
          },
          "metadata": {
            "tags": []
          },
          "execution_count": 49
        }
      ]
    },
    {
      "cell_type": "code",
      "metadata": {
        "id": "lVoVkt4_uVMl"
      },
      "source": [
        "class Designer(Employee):    # inherits\n",
        "  pass"
      ],
      "execution_count": 44,
      "outputs": []
    },
    {
      "cell_type": "code",
      "metadata": {
        "id": "dDoaxK6vuLGx"
      },
      "source": [
        "d1 = Designer('Phil', 29, 7000)"
      ],
      "execution_count": 53,
      "outputs": []
    },
    {
      "cell_type": "code",
      "metadata": {
        "colab": {
          "base_uri": "https://localhost:8080/",
          "height": 163
        },
        "id": "G-9ffxdLucpw",
        "outputId": "b5fa183e-bdaa-4616-efdb-5cba7263a4ec"
      },
      "source": [
        "d2 = Designer('Phil', 29, 7000, \"A\")"
      ],
      "execution_count": 52,
      "outputs": [
        {
          "output_type": "error",
          "ename": "TypeError",
          "evalue": "ignored",
          "traceback": [
            "\u001b[0;31m---------------------------------------------------------------------------\u001b[0m",
            "\u001b[0;31mTypeError\u001b[0m                                 Traceback (most recent call last)",
            "\u001b[0;32m<ipython-input-52-5915bc2dd396>\u001b[0m in \u001b[0;36m<module>\u001b[0;34m()\u001b[0m\n\u001b[0;32m----> 1\u001b[0;31m \u001b[0md2\u001b[0m \u001b[0;34m=\u001b[0m \u001b[0mDesigner\u001b[0m\u001b[0;34m(\u001b[0m\u001b[0;34m'Phil'\u001b[0m\u001b[0;34m,\u001b[0m \u001b[0;36m29\u001b[0m\u001b[0;34m,\u001b[0m \u001b[0;36m7000\u001b[0m\u001b[0;34m,\u001b[0m \u001b[0;34m\"A\"\u001b[0m\u001b[0;34m)\u001b[0m\u001b[0;34m\u001b[0m\u001b[0;34m\u001b[0m\u001b[0m\n\u001b[0m",
            "\u001b[0;31mTypeError\u001b[0m: __init__() takes 4 positional arguments but 5 were given"
          ]
        }
      ]
    },
    {
      "cell_type": "markdown",
      "metadata": {
        "id": "ebk0_yZMvN90"
      },
      "source": [
        "#### extend"
      ]
    },
    {
      "cell_type": "code",
      "metadata": {
        "id": "ORls7c3gulY9"
      },
      "source": [
        "class Employee:\n",
        "\n",
        "  def __init__(self, name, age, salary):\n",
        "    self.name = name\n",
        "    self.age = age\n",
        "    self.salary = salary\n",
        "\n",
        "  def work(self):\n",
        "    print(f\"{self.name} is working...\")"
      ],
      "execution_count": 54,
      "outputs": []
    },
    {
      "cell_type": "code",
      "metadata": {
        "id": "UuG6c5egvoEv"
      },
      "source": [
        "class ItStack(Employee):    # inherits\n",
        "  def __init__(self, name, age, salary, level):\n",
        "    super().__init__(name, age, salary)    # refers parent class\n",
        "    self.level = level\n",
        "\n",
        "  def debugg(self):\n",
        "    print(f\"{self.name} is debugging...\")"
      ],
      "execution_count": 55,
      "outputs": []
    },
    {
      "cell_type": "code",
      "metadata": {
        "id": "BXj6PJRhvqnX"
      },
      "source": [
        "class Designer(Employee):    # inherits\n",
        "  def draw(self):\n",
        "    print(f\"{self.name} is drawing...\")"
      ],
      "execution_count": 56,
      "outputs": []
    },
    {
      "cell_type": "code",
      "metadata": {
        "id": "HCDMb0XrvqqR"
      },
      "source": [
        "se = ItStack('Eddie', 24, 6000, 'junior')"
      ],
      "execution_count": 57,
      "outputs": []
    },
    {
      "cell_type": "code",
      "metadata": {
        "colab": {
          "base_uri": "https://localhost:8080/"
        },
        "id": "geULOo2lvqs0",
        "outputId": "85b7ec67-2059-4295-a949-1dba9cbb4cea"
      },
      "source": [
        "se.debugg()"
      ],
      "execution_count": 58,
      "outputs": [
        {
          "output_type": "stream",
          "text": [
            "Eddie is debugging...\n"
          ],
          "name": "stdout"
        }
      ]
    },
    {
      "cell_type": "code",
      "metadata": {
        "id": "tkd29dxHvqvX"
      },
      "source": [
        "d1 = Designer('Phil', 29, 7000)"
      ],
      "execution_count": 59,
      "outputs": []
    },
    {
      "cell_type": "code",
      "metadata": {
        "colab": {
          "base_uri": "https://localhost:8080/"
        },
        "id": "xJdBQ4HGwRb0",
        "outputId": "cf7cbdc5-e312-485f-aaeb-41dcde3d17a1"
      },
      "source": [
        "d1.draw()"
      ],
      "execution_count": 60,
      "outputs": [
        {
          "output_type": "stream",
          "text": [
            "Phil is drawing...\n"
          ],
          "name": "stdout"
        }
      ]
    },
    {
      "cell_type": "code",
      "metadata": {
        "colab": {
          "base_uri": "https://localhost:8080/",
          "height": 163
        },
        "id": "DtGedz5xwyIe",
        "outputId": "1e10fcc2-023f-4c89-cc18-25ec51f02c7a"
      },
      "source": [
        "d1.debugg()"
      ],
      "execution_count": 62,
      "outputs": [
        {
          "output_type": "error",
          "ename": "AttributeError",
          "evalue": "ignored",
          "traceback": [
            "\u001b[0;31m---------------------------------------------------------------------------\u001b[0m",
            "\u001b[0;31mAttributeError\u001b[0m                            Traceback (most recent call last)",
            "\u001b[0;32m<ipython-input-62-5a60c9eff2ff>\u001b[0m in \u001b[0;36m<module>\u001b[0;34m()\u001b[0m\n\u001b[0;32m----> 1\u001b[0;31m \u001b[0md1\u001b[0m\u001b[0;34m.\u001b[0m\u001b[0mdebugg\u001b[0m\u001b[0;34m(\u001b[0m\u001b[0;34m)\u001b[0m\u001b[0;34m\u001b[0m\u001b[0;34m\u001b[0m\u001b[0m\n\u001b[0m",
            "\u001b[0;31mAttributeError\u001b[0m: 'Designer' object has no attribute 'debugg'"
          ]
        }
      ]
    },
    {
      "cell_type": "code",
      "metadata": {
        "colab": {
          "base_uri": "https://localhost:8080/",
          "height": 163
        },
        "id": "kbE3907nwTGx",
        "outputId": "5244b34c-fd6f-4b17-e74b-74b48e73ba6d"
      },
      "source": [
        "se.draw()"
      ],
      "execution_count": 61,
      "outputs": [
        {
          "output_type": "error",
          "ename": "AttributeError",
          "evalue": "ignored",
          "traceback": [
            "\u001b[0;31m---------------------------------------------------------------------------\u001b[0m",
            "\u001b[0;31mAttributeError\u001b[0m                            Traceback (most recent call last)",
            "\u001b[0;32m<ipython-input-61-9957568e457a>\u001b[0m in \u001b[0;36m<module>\u001b[0;34m()\u001b[0m\n\u001b[0;32m----> 1\u001b[0;31m \u001b[0mse\u001b[0m\u001b[0;34m.\u001b[0m\u001b[0mdraw\u001b[0m\u001b[0;34m(\u001b[0m\u001b[0;34m)\u001b[0m\u001b[0;34m\u001b[0m\u001b[0;34m\u001b[0m\u001b[0m\n\u001b[0m",
            "\u001b[0;31mAttributeError\u001b[0m: 'ItStack' object has no attribute 'draw'"
          ]
        }
      ]
    },
    {
      "cell_type": "markdown",
      "metadata": {
        "id": "7JT9fivMw9V8"
      },
      "source": [
        "#### overide"
      ]
    },
    {
      "cell_type": "code",
      "metadata": {
        "id": "8wZw9Yh4wUGb"
      },
      "source": [
        "class Employee:\n",
        "\n",
        "  def __init__(self, name, age, salary):\n",
        "    self.name = name\n",
        "    self.age = age\n",
        "    self.salary = salary\n",
        "\n",
        "  def work(self):\n",
        "    print(f\"{self.name} is working...\")"
      ],
      "execution_count": 63,
      "outputs": []
    },
    {
      "cell_type": "code",
      "metadata": {
        "id": "_CXeMLG6wUKC"
      },
      "source": [
        "class ItStack(Employee):    # inherits\n",
        "  def __init__(self, name, age, salary, level):\n",
        "    super().__init__(name, age, salary)    # refers parent class\n",
        "    self.level = level\n",
        "\n",
        "  def work(self):                 # overide the parent work()\n",
        "    print(f\"{self.name} is coding...\")\n",
        "\n",
        "  def debugg(self):\n",
        "    print(f\"{self.name} is debugging...\")"
      ],
      "execution_count": 66,
      "outputs": []
    },
    {
      "cell_type": "code",
      "metadata": {
        "id": "NyY_zHpUwUND"
      },
      "source": [
        "class Designer(Employee):    # inherits\n",
        "  def draw(self):\n",
        "    print(f\"{self.name} is drawing...\")\n",
        "  \n",
        "  def work(self):                  # overide the parent work()\n",
        "    print(f\"{self.name} is designing...\")"
      ],
      "execution_count": 67,
      "outputs": []
    },
    {
      "cell_type": "code",
      "metadata": {
        "id": "K0JUcCW2xtCG"
      },
      "source": [
        "se = ItStack('Eddie', 24, 6000, 'junior')"
      ],
      "execution_count": 68,
      "outputs": []
    },
    {
      "cell_type": "code",
      "metadata": {
        "colab": {
          "base_uri": "https://localhost:8080/"
        },
        "id": "9jn8oMB1x9WA",
        "outputId": "75457b54-82a6-4124-f07c-3d74c6da6e9c"
      },
      "source": [
        "se.work()"
      ],
      "execution_count": 69,
      "outputs": [
        {
          "output_type": "stream",
          "text": [
            "Eddie is coding...\n"
          ],
          "name": "stdout"
        }
      ]
    },
    {
      "cell_type": "code",
      "metadata": {
        "id": "V2KaFWnix-Vo"
      },
      "source": [
        "d1 = Designer('Phil', 29, 7000)"
      ],
      "execution_count": 70,
      "outputs": []
    },
    {
      "cell_type": "code",
      "metadata": {
        "colab": {
          "base_uri": "https://localhost:8080/"
        },
        "id": "NYIqN5lTyA8S",
        "outputId": "591a3f29-7084-4b77-8ede-7ff4217f96d0"
      },
      "source": [
        "d1.work()"
      ],
      "execution_count": 71,
      "outputs": [
        {
          "output_type": "stream",
          "text": [
            "Phil is designing...\n"
          ],
          "name": "stdout"
        }
      ]
    },
    {
      "cell_type": "code",
      "metadata": {
        "id": "YfADtxlryB0L"
      },
      "source": [
        ""
      ],
      "execution_count": null,
      "outputs": []
    },
    {
      "cell_type": "code",
      "metadata": {
        "id": "z-R2M9jvyJQV"
      },
      "source": [
        ""
      ],
      "execution_count": null,
      "outputs": []
    },
    {
      "cell_type": "markdown",
      "metadata": {
        "id": "4dctipaDydTP"
      },
      "source": [
        "# Polymorphism"
      ]
    },
    {
      "cell_type": "code",
      "metadata": {
        "id": "WBou0MCgyJSk"
      },
      "source": [
        "employees = [ItStack('Eddie', 24, 6000, 'junior'),\n",
        "        ItStack('Lisa', 28, 8000, 'sunior'),\n",
        "        Designer('Phil', 29, 5000)]"
      ],
      "execution_count": 72,
      "outputs": []
    },
    {
      "cell_type": "code",
      "metadata": {
        "id": "3KhWDLk6yJU2"
      },
      "source": [
        "def motivate_employees(employees):\n",
        "  for employee in employees:\n",
        "    employee.work()"
      ],
      "execution_count": 73,
      "outputs": []
    },
    {
      "cell_type": "code",
      "metadata": {
        "colab": {
          "base_uri": "https://localhost:8080/"
        },
        "id": "RP967TQcyJa3",
        "outputId": "9a204d62-8b20-4f17-e137-39197db8e096"
      },
      "source": [
        "motivate_employees(employees)"
      ],
      "execution_count": 74,
      "outputs": [
        {
          "output_type": "stream",
          "text": [
            "Eddie is coding...\n",
            "Lisa is coding...\n",
            "Phil is designing...\n"
          ],
          "name": "stdout"
        }
      ]
    },
    {
      "cell_type": "code",
      "metadata": {
        "id": "CzQkFLBRzTTg"
      },
      "source": [
        ""
      ],
      "execution_count": null,
      "outputs": []
    },
    {
      "cell_type": "code",
      "metadata": {
        "id": "vUNCGw9Czdgq"
      },
      "source": [
        ""
      ],
      "execution_count": null,
      "outputs": []
    },
    {
      "cell_type": "markdown",
      "metadata": {
        "id": "FzTf5MfVzd5I"
      },
      "source": [
        "# Encapsulation"
      ]
    },
    {
      "cell_type": "code",
      "metadata": {
        "id": "wNf1HOMbzeHI"
      },
      "source": [
        "class ItStack(Employee):\n",
        "  def __init__(self, name, age):\n",
        "    self.name = name\n",
        "    self.age = age\n",
        "\n",
        "    self._salary = None          # protected attribute, defined by _xxxx, but still can be accessed\n",
        "    self._num_bugs_solved = 0\n",
        "    self.__salary_unaccessible = None   # private attributes, using __xxx, now it can be real private, but not often in practice  \n",
        "\n",
        "  def get_salary(self):            # getter\n",
        "    return self._salary \n",
        "\n",
        "  def set_salary(self, val):         # setter\n",
        "    if val < 1000:\n",
        "      self._salary = 1000\n",
        "    if val > 20000:\n",
        "      self._salary = 20000\n",
        "    else:\n",
        "      self._salary = val"
      ],
      "execution_count": 107,
      "outputs": []
    },
    {
      "cell_type": "markdown",
      "metadata": {
        "id": "jm5JeOVu3i8i"
      },
      "source": [
        "getter & setter are the only way that external can be get access to internal \"protected attrs\""
      ]
    },
    {
      "cell_type": "code",
      "metadata": {
        "id": "dN3rnHSdzeKB"
      },
      "source": [
        "se = ItStack('Ed', 45)"
      ],
      "execution_count": 95,
      "outputs": []
    },
    {
      "cell_type": "code",
      "metadata": {
        "colab": {
          "base_uri": "https://localhost:8080/"
        },
        "id": "i571dZ7qzeMf",
        "outputId": "3ab5b674-10be-4688-9a7f-4681c293cb0b"
      },
      "source": [
        "se.age, se.name, se._salary"
      ],
      "execution_count": 96,
      "outputs": [
        {
          "output_type": "execute_result",
          "data": {
            "text/plain": [
              "(45, 'Ed', None)"
            ]
          },
          "metadata": {
            "tags": []
          },
          "execution_count": 96
        }
      ]
    },
    {
      "cell_type": "code",
      "metadata": {
        "colab": {
          "base_uri": "https://localhost:8080/",
          "height": 163
        },
        "id": "x-CO1y8n0nck",
        "outputId": "ed20bde9-8dca-4645-a430-2a783962a1c2"
      },
      "source": [
        "se.age, se.name, se.__salary_unaccessible"
      ],
      "execution_count": 89,
      "outputs": [
        {
          "output_type": "error",
          "ename": "AttributeError",
          "evalue": "ignored",
          "traceback": [
            "\u001b[0;31m---------------------------------------------------------------------------\u001b[0m",
            "\u001b[0;31mAttributeError\u001b[0m                            Traceback (most recent call last)",
            "\u001b[0;32m<ipython-input-89-225e3024a6be>\u001b[0m in \u001b[0;36m<module>\u001b[0;34m()\u001b[0m\n\u001b[0;32m----> 1\u001b[0;31m \u001b[0mse\u001b[0m\u001b[0;34m.\u001b[0m\u001b[0mage\u001b[0m\u001b[0;34m,\u001b[0m \u001b[0mse\u001b[0m\u001b[0;34m.\u001b[0m\u001b[0mname\u001b[0m\u001b[0;34m,\u001b[0m \u001b[0mse\u001b[0m\u001b[0;34m.\u001b[0m\u001b[0m__salary_unaccessible\u001b[0m\u001b[0;34m\u001b[0m\u001b[0;34m\u001b[0m\u001b[0m\n\u001b[0m",
            "\u001b[0;31mAttributeError\u001b[0m: 'ItStack' object has no attribute '__salary_unaccessible'"
          ]
        }
      ]
    },
    {
      "cell_type": "code",
      "metadata": {
        "id": "pS2Htf9L1Pnd"
      },
      "source": [
        "se.set_salary(600)"
      ],
      "execution_count": 108,
      "outputs": []
    },
    {
      "cell_type": "code",
      "metadata": {
        "colab": {
          "base_uri": "https://localhost:8080/"
        },
        "id": "C4jVtBKd1sqZ",
        "outputId": "7c3c0810-9422-4acf-c64d-b4d003ada365"
      },
      "source": [
        "se.get_salary()"
      ],
      "execution_count": 109,
      "outputs": [
        {
          "output_type": "execute_result",
          "data": {
            "text/plain": [
              "600"
            ]
          },
          "metadata": {
            "tags": []
          },
          "execution_count": 109
        }
      ]
    },
    {
      "cell_type": "code",
      "metadata": {
        "id": "8XWNJnI21ssy"
      },
      "source": [
        ""
      ],
      "execution_count": null,
      "outputs": []
    },
    {
      "cell_type": "code",
      "metadata": {
        "id": "BFNsDg-o1svG"
      },
      "source": [
        ""
      ],
      "execution_count": null,
      "outputs": []
    },
    {
      "cell_type": "markdown",
      "metadata": {
        "id": "GwB1s8qv6OY1"
      },
      "source": [
        "# Abstract"
      ]
    },
    {
      "cell_type": "code",
      "metadata": {
        "id": "CDwbXYsU7cA-"
      },
      "source": [
        ""
      ],
      "execution_count": null,
      "outputs": []
    },
    {
      "cell_type": "code",
      "metadata": {
        "id": "-5fCce037cDf"
      },
      "source": [
        ""
      ],
      "execution_count": null,
      "outputs": []
    },
    {
      "cell_type": "markdown",
      "metadata": {
        "id": "QPCV1SIZ7ceF"
      },
      "source": [
        "# Properties"
      ]
    },
    {
      "cell_type": "markdown",
      "metadata": {
        "id": "ZewFQS5u7-4u"
      },
      "source": [
        "more Pythonic way of doing setter & getter using decorator"
      ]
    },
    {
      "cell_type": "markdown",
      "metadata": {
        "id": "wcLUK33O8LVq"
      },
      "source": [
        "#### @property\n",
        "#### @xxxx.setter\n",
        "#### @xxxx.deleter"
      ]
    },
    {
      "cell_type": "markdown",
      "metadata": {
        "id": "SRqc8nmA9ytc"
      },
      "source": [
        "https://www.freecodecamp.org/news/object-oriented-programming-concepts-21bb035f7260/"
      ]
    }
  ]
}